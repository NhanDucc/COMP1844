{
 "cells": [
  {
   "cell_type": "code",
   "execution_count": 1,
   "id": "b6261ccb-43ed-4340-a56f-c38df74e063d",
   "metadata": {},
   "outputs": [
    {
     "name": "stdout",
     "output_type": "stream",
     "text": [
      "Hello World\n",
      "10 + 5 = 15\n"
     ]
    }
   ],
   "source": [
    "print('Hello World') \n",
    "a = 10 \n",
    "b = 5 \n",
    "print(a, '+', b, '=', a+b) "
   ]
  },
  {
   "cell_type": "code",
   "execution_count": 2,
   "id": "33492676-f73f-496f-b208-4d6613b6603f",
   "metadata": {},
   "outputs": [
    {
     "name": "stdout",
     "output_type": "stream",
     "text": [
      "13\n",
      "-7\n",
      "30\n",
      "0.3\n"
     ]
    }
   ],
   "source": [
    "a = 3 \n",
    "b = 10 \n",
    "c = a + b\n",
    "d = a - b\n",
    "e = a * b\n",
    "print(c)\n",
    "print(d)\n",
    "print(e)\n",
    "try: \n",
    "    f = a / b \n",
    "    print(f) \n",
    "except ZeroDivisionError: \n",
    "    print('Division by zero') "
   ]
  },
  {
   "cell_type": "code",
   "execution_count": 12,
   "id": "6130acfa-d271-45f2-9796-aed27ffb4a51",
   "metadata": {},
   "outputs": [
    {
     "name": "stdout",
     "output_type": "stream",
     "text": [
      "Enter a:  10\n",
      "Enter b:  5\n",
      "Enter c:  6\n"
     ]
    },
    {
     "name": "stdout",
     "output_type": "stream",
     "text": [
      "10.0x^2 + 5.0x + c = 0\n",
      "This equation has no root\n"
     ]
    }
   ],
   "source": [
    "import math\n",
    "a = float(input('Enter a: '))\n",
    "while a == 0:\n",
    "    print('a do not equal to 0')\n",
    "    a = float(input('Re-enter a: '))\n",
    "b = float(input('Enter b: '))\n",
    "c = float(input('Enter c: '))\n",
    "print(f'{a}x^2 + {b}x + c = 0')\n",
    "delta = b**2 -4*a*c\n",
    "if delta > 0:\n",
    "    x1 = (-b + math.sqrt(delta))/(2*a)\n",
    "    x2 = (-b - math.sqrt(delta))/(2*a)\n",
    "    print(f'The quadratic equation has 2 distinct roots: {round(x1, 2)} and {round(x2, 2)}')\n",
    "elif delta == 0:\n",
    "    x = float(-b/(2*a))\n",
    "    print(f'The equation has double root: {round(x, 2)}')\n",
    "else:\n",
    "    print('This equation has no root')"
   ]
  }
 ],
 "metadata": {
  "kernelspec": {
   "display_name": "Python 3",
   "language": "python",
   "name": "python3"
  },
  "language_info": {
   "codemirror_mode": {
    "name": "ipython",
    "version": 3
   },
   "file_extension": ".py",
   "mimetype": "text/x-python",
   "name": "python",
   "nbconvert_exporter": "python",
   "pygments_lexer": "ipython3",
   "version": "3.11.9"
  }
 },
 "nbformat": 4,
 "nbformat_minor": 5
}
