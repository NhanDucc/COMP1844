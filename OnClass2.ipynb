{
 "cells": [
  {
   "cell_type": "code",
   "execution_count": 1,
   "id": "4be08d58-8b8c-4069-adef-a8ea2503947a",
   "metadata": {},
   "outputs": [],
   "source": [
    "import numpy as np"
   ]
  },
  {
   "cell_type": "code",
   "execution_count": 2,
   "id": "c804361e-b88b-40af-92af-0cd2f0b0880e",
   "metadata": {},
   "outputs": [
    {
     "ename": "NameError",
     "evalue": "name 'arr1' is not defined",
     "output_type": "error",
     "traceback": [
      "\u001b[1;31m---------------------------------------------------------------------------\u001b[0m",
      "\u001b[1;31mNameError\u001b[0m                                 Traceback (most recent call last)",
      "Cell \u001b[1;32mIn[2], line 3\u001b[0m\n\u001b[0;32m      1\u001b[0m \u001b[38;5;66;03m#Task 1\u001b[39;00m\n\u001b[0;32m      2\u001b[0m A \u001b[38;5;241m=\u001b[39m np\u001b[38;5;241m.\u001b[39mrandom\u001b[38;5;241m.\u001b[39mrandint(\u001b[38;5;241m0\u001b[39m, \u001b[38;5;241m100\u001b[39m, \u001b[38;5;241m10\u001b[39m, dtype\u001b[38;5;241m=\u001b[39m\u001b[38;5;28mint\u001b[39m)\n\u001b[1;32m----> 3\u001b[0m \u001b[38;5;28mprint\u001b[39m(\u001b[43marr1\u001b[49m)\n\u001b[0;32m      5\u001b[0m \u001b[38;5;28;01mfor\u001b[39;00m i \u001b[38;5;129;01min\u001b[39;00m \u001b[38;5;28mrange\u001b[39m(\u001b[38;5;241m0\u001b[39m, \u001b[38;5;241m10\u001b[39m):\n\u001b[0;32m      6\u001b[0m     \u001b[38;5;28mprint\u001b[39m(i, A[i])\n",
      "\u001b[1;31mNameError\u001b[0m: name 'arr1' is not defined"
     ]
    }
   ],
   "source": [
    "#Task 1\n",
    "A = np.random.randint(0, 100, 10, dtype=int)\n",
    "print(arr1)\n",
    "\n",
    "for i in range(0, 10):\n",
    "    print(i, A[i])"
   ]
  },
  {
   "cell_type": "code",
   "execution_count": null,
   "id": "b492b64e-8367-4c39-8638-c09a9663e7ad",
   "metadata": {},
   "outputs": [
    {
     "name": "stdout",
     "output_type": "stream",
     "text": [
      "Sum of the array: 459\n",
      "Average value of the array: 45.9\n"
     ]
    }
   ],
   "source": [
    "#Task 2\n",
    "sum = 0\n",
    "for i in range(0, 10):\n",
    "    sum+=A[i]\n",
    "print(f\"Sum of the array: {sum}\")\n",
    "print(f\"Average value of the array: {sum/len(A)}\")"
   ]
  },
  {
   "cell_type": "code",
   "execution_count": null,
   "id": "43becb23-d5b9-49cb-afd4-0fee0b4762b0",
   "metadata": {},
   "outputs": [
    {
     "name": "stdout",
     "output_type": "stream",
     "text": [
      "Min value of the array is 7, at position 0\n",
      "Max value of the array is 73, at position 1\n"
     ]
    }
   ],
   "source": [
    "#Task 3\n",
    "min = np.min(A)\n",
    "max = np.max(A)\n",
    "print(f\"Min value of the array is {min}, at position {np.argmin(A)}\")\n",
    "print(f\"Max value of the array is {max}, at position {np.argmax(A)}\")"
   ]
  },
  {
   "cell_type": "code",
   "execution_count": null,
   "id": "6d414cf5-4d03-4297-85df-825e965f731a",
   "metadata": {},
   "outputs": [
    {
     "name": "stdout",
     "output_type": "stream",
     "text": [
      "[ 7 12 17 35 48 54 70 71 72 73]\n",
      "[73 72 71 70 54 48 35 17 12  7]\n"
     ]
    }
   ],
   "source": [
    "#Task 4\n",
    "B = np.sort(A)\n",
    "C = np.sort(A)[::-1]\n",
    "print(B)\n",
    "print(C)"
   ]
  },
  {
   "cell_type": "code",
   "execution_count": null,
   "id": "72085961-9a4f-4352-86d6-356c473773c8",
   "metadata": {},
   "outputs": [
    {
     "name": "stdout",
     "output_type": "stream",
     "text": [
      "[ 7 12 17 35 48 54 70 71 72 73]\n",
      "[73 72 71 70 54 48 35 17 12  7]\n"
     ]
    }
   ],
   "source": [
    "#Task 5\n",
    "n = len(A)\n",
    "for i in range(n):\n",
    "    for j in range(0, n-i-1):\n",
    "        if B[j] > B[j+1]:\n",
    "            temp = B[j]\n",
    "            B[j] = B[j+1]\n",
    "            B[j+1] = temp\n",
    "print(B)\n",
    "C = B[::-1]\n",
    "print(C)"
   ]
  },
  {
   "cell_type": "code",
   "execution_count": null,
   "id": "634caab7-19c5-40da-a5d6-d0992896a8b9",
   "metadata": {},
   "outputs": [
    {
     "name": "stdout",
     "output_type": "stream",
     "text": [
      "Index Array A Array B Array C\n",
      "  0      7      7      73\n",
      "  1      12      12      72\n",
      "  2      17      17      71\n",
      "  3      35      35      70\n",
      "  4      48      48      54\n",
      "  5      54      54      48\n",
      "  6      70      70      35\n",
      "  7      71      71      17\n",
      "  8      72      72      12\n",
      "  9      73      73      7\n"
     ]
    }
   ],
   "source": [
    "#Task 6\n",
    " # Print the table\n",
    "print(f\"{'Index'} {'Array A'} {'Array B'} {'Array C'}\")\n",
    "for i in range(len(A)):\n",
    "    print(f\"  {i}      {A[i]}      {B[i]}      {C[i]}\")"
   ]
  },
  {
   "cell_type": "code",
   "execution_count": null,
   "id": "9366e801-5c8e-4e5a-9dd5-8364b17d6288",
   "metadata": {},
   "outputs": [
    {
     "name": "stdout",
     "output_type": "stream",
     "text": [
      "[10, 14, 18, 22, 26, 30, 34, 38, 42, 46]\n"
     ]
    }
   ],
   "source": [
    "#Task 7\n",
    "D = []\n",
    "a = 10\n",
    "for i in range(10):\n",
    "    D.append(a)\n",
    "    a+=4\n",
    "print(D)"
   ]
  },
  {
   "cell_type": "code",
   "execution_count": 6,
   "id": "92770411-aca8-45af-956d-295271ef96a5",
   "metadata": {},
   "outputs": [
    {
     "name": "stdout",
     "output_type": "stream",
     "text": [
      "Too low!\n",
      "Congratulations! You guessed the number.\n"
     ]
    }
   ],
   "source": [
    "#Task 8\n",
    "import random\n",
    "\n",
    "# Generate a random integer between 1 and 10\n",
    "random_number = random.randint(1, 10)\n",
    "random_number   # Hide this by scrolling down\n",
    "\n",
    "while True:\n",
    "    # Ask the user to guess the number\n",
    "    guess = int(input(\"Guess a number between 1 and 10: \"))\n",
    "\n",
    "    # Check if the guess is correct\n",
    "    if guess < random_number:\n",
    "        print(\"Too low!\")\n",
    "    elif guess > random_number:\n",
    "        print(\"Too high!\")\n",
    "    else:\n",
    "        print(\"Congratulations! You guessed the number.\")\n",
    "        break"
   ]
  }
 ],
 "metadata": {
  "kernelspec": {
   "display_name": "Python 3",
   "language": "python",
   "name": "python3"
  },
  "language_info": {
   "codemirror_mode": {
    "name": "ipython",
    "version": 3
   },
   "file_extension": ".py",
   "mimetype": "text/x-python",
   "name": "python",
   "nbconvert_exporter": "python",
   "pygments_lexer": "ipython3",
   "version": "3.11.9"
  }
 },
 "nbformat": 4,
 "nbformat_minor": 5
}
