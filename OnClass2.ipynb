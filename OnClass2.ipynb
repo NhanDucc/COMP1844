{
 "cells": [
  {
   "cell_type": "code",
   "execution_count": 3,
   "id": "00d29cff-d436-4572-a7c8-1ca89a689968",
   "metadata": {},
   "outputs": [
    {
     "name": "stdout",
     "output_type": "stream",
     "text": [
      "H\n"
     ]
    }
   ],
   "source": [
    "print(\"H\")"
   ]
  },
  {
   "cell_type": "code",
   "execution_count": 2,
   "id": "4be08d58-8b8c-4069-adef-a8ea2503947a",
   "metadata": {},
   "outputs": [],
   "source": [
    "import numpy as np"
   ]
  },
  {
   "cell_type": "code",
   "execution_count": 57,
   "id": "c804361e-b88b-40af-92af-0cd2f0b0880e",
   "metadata": {},
   "outputs": [
    {
     "name": "stdout",
     "output_type": "stream",
     "text": [
      "[93  4 59  3 27 74 44 19 64  5]\n",
      "0 7\n",
      "1 73\n",
      "2 12\n",
      "3 70\n",
      "4 17\n",
      "5 48\n",
      "6 35\n",
      "7 72\n",
      "8 71\n",
      "9 54\n"
     ]
    }
   ],
   "source": [
    "#Task 1\n",
    "A = np.random.randint(0, 100, 10, dtype=int)\n",
    "print(arr1)\n",
    "\n",
    "for i in range(0, 10):\n",
    "    print(i, A[i])"
   ]
  },
  {
   "cell_type": "code",
   "execution_count": 58,
   "id": "b492b64e-8367-4c39-8638-c09a9663e7ad",
   "metadata": {},
   "outputs": [
    {
     "name": "stdout",
     "output_type": "stream",
     "text": [
      "Sum of the array: 459\n",
      "Average value of the array: 45.9\n"
     ]
    }
   ],
   "source": [
    "#Task 2\n",
    "sum = 0\n",
    "for i in range(0, 10):\n",
    "    sum+=A[i]\n",
    "print(f\"Sum of the array: {sum}\")\n",
    "print(f\"Average value of the array: {sum/len(A)}\")"
   ]
  },
  {
   "cell_type": "code",
   "execution_count": 59,
   "id": "43becb23-d5b9-49cb-afd4-0fee0b4762b0",
   "metadata": {},
   "outputs": [
    {
     "name": "stdout",
     "output_type": "stream",
     "text": [
      "Min value of the array is 7, at position 0\n",
      "Max value of the array is 73, at position 1\n"
     ]
    }
   ],
   "source": [
    "#Task 3\n",
    "min = np.min(A)\n",
    "max = np.max(A)\n",
    "print(f\"Min value of the array is {min}, at position {np.argmin(A)}\")\n",
    "print(f\"Max value of the array is {max}, at position {np.argmax(A)}\")"
   ]
  },
  {
   "cell_type": "code",
   "execution_count": 62,
   "id": "6d414cf5-4d03-4297-85df-825e965f731a",
   "metadata": {},
   "outputs": [
    {
     "name": "stdout",
     "output_type": "stream",
     "text": [
      "[ 7 12 17 35 48 54 70 71 72 73]\n",
      "[73 72 71 70 54 48 35 17 12  7]\n"
     ]
    }
   ],
   "source": [
    "#Task 4\n",
    "B = np.sort(A)\n",
    "C = np.sort(A)[::-1]\n",
    "print(B)\n",
    "print(C)"
   ]
  },
  {
   "cell_type": "code",
   "execution_count": 61,
   "id": "72085961-9a4f-4352-86d6-356c473773c8",
   "metadata": {},
   "outputs": [
    {
     "name": "stdout",
     "output_type": "stream",
     "text": [
      "[ 7 12 17 35 48 54 70 71 72 73]\n",
      "[73 72 71 70 54 48 35 17 12  7]\n"
     ]
    }
   ],
   "source": [
    "#Task 5\n",
    "n = len(A)\n",
    "for i in range(n):\n",
    "    for j in range(0, n-i-1):\n",
    "        if B[j] > B[j+1]:\n",
    "            temp = B[j]\n",
    "            B[j] = B[j+1]\n",
    "            B[j+1] = temp\n",
    "print(B)\n",
    "C = B[::-1]\n",
    "print(C)"
   ]
  },
  {
   "cell_type": "code",
   "execution_count": 72,
   "id": "634caab7-19c5-40da-a5d6-d0992896a8b9",
   "metadata": {},
   "outputs": [
    {
     "name": "stdout",
     "output_type": "stream",
     "text": [
      "Index Array A Array B Array C\n",
      "  0      7      7      73\n",
      "  1      12      12      72\n",
      "  2      17      17      71\n",
      "  3      35      35      70\n",
      "  4      48      48      54\n",
      "  5      54      54      48\n",
      "  6      70      70      35\n",
      "  7      71      71      17\n",
      "  8      72      72      12\n",
      "  9      73      73      7\n"
     ]
    }
   ],
   "source": [
    "#Task 6\n",
    " # Print the table\n",
    "print(f\"{'Index'} {'Array A'} {'Array B'} {'Array C'}\")\n",
    "for i in range(len(A)):\n",
    "    print(f\"  {i}      {A[i]}      {B[i]}      {C[i]}\")"
   ]
  },
  {
   "cell_type": "code",
   "execution_count": 79,
   "id": "9366e801-5c8e-4e5a-9dd5-8364b17d6288",
   "metadata": {},
   "outputs": [
    {
     "name": "stdout",
     "output_type": "stream",
     "text": [
      "[10, 14, 18, 22, 26, 30, 34, 38, 42, 46]\n"
     ]
    }
   ],
   "source": [
    "#Task 7\n",
    "D = []\n",
    "a = 10\n",
    "for i in range(10):\n",
    "    D.append(a)\n",
    "    a+=4\n",
    "print(D)"
   ]
  },
  {
   "cell_type": "code",
   "execution_count": 96,
   "id": "92770411-aca8-45af-956d-295271ef96a5",
   "metadata": {},
   "outputs": [
    {
     "name": "stdout",
     "output_type": "stream",
     "text": [
      "<class 'int'>\n",
      "10\n"
     ]
    },
    {
     "name": "stdin",
     "output_type": "stream",
     "text": [
      "Enter a number between 1 and 10:  10\n"
     ]
    },
    {
     "name": "stdout",
     "output_type": "stream",
     "text": [
      "<class 'int'>\n",
      "Hay lam djtmemay\n"
     ]
    }
   ],
   "source": [
    "#Task 8\n",
    "import random\n",
    "random_num = random.randint(1, 10)\n",
    "print(type(random_num))\n",
    "print(random_num)\n",
    "n = int(input('Enter a number between 1 and 10: '))\n",
    "print(type(n))\n",
    "if n == random_num:\n",
    "    print('Hay lam djtmemay')\n",
    "else:\n",
    "    print('Ngu')"
   ]
  },
  {
   "cell_type": "code",
   "execution_count": null,
   "id": "7aca5d69-a9bb-4336-803b-5664d3eea92f",
   "metadata": {},
   "outputs": [],
   "source": []
  }
 ],
 "metadata": {
  "kernelspec": {
   "display_name": "Python 3 (ipykernel)",
   "language": "python",
   "name": "python3"
  },
  "language_info": {
   "codemirror_mode": {
    "name": "ipython",
    "version": 3
   },
   "file_extension": ".py",
   "mimetype": "text/x-python",
   "name": "python",
   "nbconvert_exporter": "python",
   "pygments_lexer": "ipython3",
   "version": "3.13.1"
  }
 },
 "nbformat": 4,
 "nbformat_minor": 5
}
